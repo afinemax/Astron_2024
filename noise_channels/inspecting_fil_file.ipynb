{
 "cells": [
  {
   "cell_type": "markdown",
   "id": "9cb474cc-cfce-4a9d-b778-e067b6f870f2",
   "metadata": {},
   "source": [
    "# Max Fine July 2 2024\n",
    "\n",
    "This notebook serves as an simple example of loading in, and plotting a \"raw\" `.fil` file, and seeing if my masked channels are in the correct ordering or are reversed"
   ]
  },
  {
   "cell_type": "code",
   "execution_count": 1,
   "id": "e68731c6-749f-454e-88db-665c0f1c921e",
   "metadata": {},
   "outputs": [],
   "source": [
    "# imports \n",
    "\n",
    "import matplotlib.pyplot as plt\n",
    "from your.formats.pysigproc import SigprocFile\n",
    "import numpy as np\n",
    "from your import Writer, Your\n",
    "from ipywidgets import interact\n",
    "import os\n",
    "\n",
    "# to save the plots with the interactive set up\n",
    "import mplcursors\n",
    "import mpld3\n",
    "\n",
    "# data dir\n",
    "datadir = '/data/frb/2024-06-25/'\n",
    "\n",
    "# file\n",
    "pv_file = 'FRB20240209A_PV_Band_2024_06_25_15_27_36.fil'\n",
    "ph_file = 'FRB20240209A_PH_Band_2024_06_25_15_30_27.fil'\n",
    "l1_file = 'FRB20240209A_L1_Band_2024_06_25_15_30_27.fil'\n",
    "l2_file = 'FRB20240209A_L2_Band_2024_06_25_15_30_27.fil'\n",
    "\n",
    "data_files = [pv_file, ph_file, l1_file, l2_file]\n",
    "\n",
    "\n",
    "# ignore chan filenames \n",
    "# should be located in same dir as this script\n",
    "p_ignore = 'p_band_master.ignorechans'\n",
    "l1_ignore = 'l1_band_master.ignorechans'\n",
    "l2_ignore = 'l2_band_master.ignorechans'\n"
   ]
  },
  {
   "cell_type": "code",
   "execution_count": 2,
   "id": "c5f257a6-d1e1-425e-b3fb-d94759fb123f",
   "metadata": {},
   "outputs": [
    {
     "data": {
      "text/plain": [
       "'/home_local/maxfine/injection_simulations'"
      ]
     },
     "execution_count": 2,
     "metadata": {},
     "output_type": "execute_result"
    }
   ],
   "source": [
    "pwd"
   ]
  },
  {
   "cell_type": "markdown",
   "id": "bb7e9c74-a0c9-4e54-a76c-63c6aef411f0",
   "metadata": {},
   "source": [
    "### Functions for reading in, and plotting `.fil` files"
   ]
  },
  {
   "cell_type": "code",
   "execution_count": 3,
   "id": "25fcb3a5-f725-466a-afc8-c98f12271f47",
   "metadata": {},
   "outputs": [],
   "source": [
    "def get_s(s, tsamp):\n",
    "    \"\"\"\n",
    "    Convert seconds to the number of samples.\n",
    "    \n",
    "    Parameters:\n",
    "    s (float): Time in seconds.\n",
    "    \n",
    "    Returns:\n",
    "    int: Corresponding number of samples.\n",
    "    \"\"\"\n",
    "    return int(s / tsamp)\n",
    "\n",
    "\n",
    "def make_plot(t_start=30.5, title='Dynamic Spectrum', ignorechan=False, n_seconds=1, quantile1=0.05, \n",
    "              quantile2=0.999, bandpass_cor=True, save_path=True):\n",
    "    \"\"\"\n",
    "    Create and display a plot of the dynamic spectrum.\n",
    "    \n",
    "    Parameters:\n",
    "    t_start (float, optional): Start time in seconds. Default is 30.5.\n",
    "    title (str, optional): Title of the plot. Default is 'Dynamic Spectrum'.\n",
    "    n_seconds (float, optional): Duration in seconds to plot. Default is 1.\n",
    "    quantile1 (float, optional): Lower quantile for color scaling. Default is 0.05.\n",
    "    quantile2 (float, optional): Upper quantile for color scaling. Default is 0.999.\n",
    "    bandpass_cor (bool, optional): If true, converts for each freq channal data = (data-mean)/STD. Default is True\n",
    "    \"\"\"\n",
    "\n",
    "    #print('ignorechan is ', ignorechan)\n",
    "    # Extract frequency and time information\n",
    "    fch1 = fil.fch1  # Frequency of the first channel\n",
    "    foff = fil.foff  # Frequency offset between channels\n",
    "    nchans = fil.nchans  # Number of channels\n",
    "    tsamp = fil.tsamp # Time resolution\n",
    "    tsamp = fil.native_tsamp()\n",
    "\n",
    "    # Calculate the number of samples to plot based on the start time and duration\n",
    "    nsamp = get_s(t_start + n_seconds, tsamp) - get_s(t_start, tsamp)\n",
    "    nstart = get_s(t_start, tsamp)\n",
    "    \n",
    "    # Retrieve the dynamic spectrum data from the .fil file and copy it\n",
    "    d = fil.get_data(nstart, nsamp).squeeze().copy()\n",
    "    \n",
    "    # Bandpass correction: subtract mean and divide by standard deviation\n",
    "    if bandpass_cor:\n",
    "        mean_d = np.nanmean(d, axis=1)\n",
    "        std_d = np.nanstd(d, axis=1)\n",
    "        print('Shape of mean_d, std_d:', mean_d.shape, std_d.shape)\n",
    "        \n",
    "        # Verify shapes\n",
    "        if mean_d.shape != std_d.shape:\n",
    "            raise ValueError(\"Shapes of mean_d and std_d do not match!\")\n",
    "        \n",
    "        plotdata = (d - mean_d[:, np.newaxis]) / std_d[:, np.newaxis]\n",
    "    else:\n",
    "        plotdata = d\n",
    "\n",
    "\n",
    "    # Mask the bad channels with ignorechan\n",
    "    if ignorechan:\n",
    "        # String specifying the ranges of channels to set to NaN\n",
    "        ranges_str = ignorechan\n",
    "        \n",
    "        # Set the specified ranges to NaN\n",
    "        modified_data = set_nan_ranges(plotdata, ranges_str)\n",
    "        d = modified_data\n",
    "            # Bandpass correction: subtract mean and divide by standard deviation\n",
    "        if bandpass_cor:\n",
    "            mean_d = np.nanmean(d, axis=0)\n",
    "            std_d = np.nanstd(d, axis=0)\n",
    "            plotdata = (d - mean_d) / std_d\n",
    "        else:\n",
    "            plotdata = d\n",
    "        \n",
    "    \n",
    "    \n",
    "    # Create the plot\n",
    "    fig, ax = plt.subplots()\n",
    "    \n",
    "    # Set the labels and title of the plot\n",
    "    ax.set_xlabel('Time (s)', fontsize=15)\n",
    "    ax.set_ylabel('Frequency Channel', fontsize=15)\n",
    "    ax.set_title(title, fontsize=15)\n",
    "    \n",
    "    # Display the image with the specified color scaling and colormap\n",
    "    ax.imshow(\n",
    "        plotdata,\n",
    "        extent=[nstart * tsamp, (nstart + nsamp) * tsamp, fil.nchans, 1], \n",
    "        origin=\"upper\",\n",
    "        vmin=np.nanquantile(plotdata, quantile1),\n",
    "        vmax=np.nanquantile(plotdata, quantile2),\n",
    "        cmap='turbo'\n",
    "    )\n",
    "    \n",
    "\n",
    "    # Set the aspect ratio of the plot to auto\n",
    "    ax.set_aspect(\"auto\")\n",
    "\n",
    "    # Enable interactivity with mplcursors\n",
    "    mplcursors.cursor(ax)\n",
    "    \n",
    "    # save the plot\n",
    "    if save_path:\n",
    "        plt.savefig(title + '.png', dpi=300, bbox_inches='tight')\n",
    "        print(f\"Interactive plot saved to cwd\")\n",
    "\n",
    "\n",
    "  "
   ]
  },
  {
   "cell_type": "markdown",
   "id": "6bda3a22-5c56-4205-a5bb-b40c13cbcc35",
   "metadata": {},
   "source": [
    "### Functions for reading in the ignorechans files"
   ]
  },
  {
   "cell_type": "code",
   "execution_count": 4,
   "id": "14152dde-ea85-48d8-9dd9-26ee8fe2a4c6",
   "metadata": {},
   "outputs": [],
   "source": [
    "def read_in_ignore_chan(filename):\n",
    "    '''This function reads in the three .ignorechans files used as the ignorechanoption in prepsubband '''\n",
    "    # Get the directory path where the script is located\n",
    "   # script_dir = os.path.dirname(__file__)\n",
    "\n",
    "    # Create the full path to the  local file using os.path.join()\n",
    "    #local_file = os.path.join(script_dir, filename)\n",
    "    local_file = '/home_local/maxfine/injection_simulations/' + filename\n",
    "    with open(local_file, 'r') as f:\n",
    "        for line in f: # there should only be one line\n",
    "            line = line.strip()\n",
    "            ignore_chans = line\n",
    "        return ignore_chans\n",
    "           # print(ignore_chans)\n",
    "\n",
    "def parse_ranges(ranges_str):\n",
    "    \"\"\"\n",
    "    Parse a string containing ranges and single indices.\n",
    "    \n",
    "    Parameters:\n",
    "    ranges_str (str): String containing ranges and indices, e.g., '0:10,24,306:319'.\n",
    "    \n",
    "    Returns:\n",
    "    list: List of indices corresponding to the specified ranges and indices.\n",
    "    \"\"\"\n",
    "    indices = []\n",
    "    for part in ranges_str.split(','):\n",
    "        if ':' in part:\n",
    "            start, end = map(int, part.split(':'))\n",
    "            indices.extend(range(start, end + 1))\n",
    "        else:\n",
    "            indices.append(int(part))\n",
    "    return indices\n",
    "\n",
    "def set_nan_ranges(data, ranges_str):\n",
    "    \"\"\"\n",
    "    Set specified ranges of channels to NaN in the data array.\n",
    "    \n",
    "    Parameters:\n",
    "    data (numpy.ndarray): 2D array of data.\n",
    "    ranges_str (str): String containing ranges and indices, e.g., '0:10,24,306:319'.\n",
    "    \n",
    "    Returns:\n",
    "    numpy.ndarray: Modified data array with specified ranges set to NaN.\n",
    "    \"\"\"\n",
    "    indices = parse_ranges(ranges_str)\n",
    "    data[indices, :] = np.nan\n",
    "    return data\n",
    "    \n"
   ]
  },
  {
   "cell_type": "markdown",
   "id": "893135e7-d125-40b6-b668-175218f59ef0",
   "metadata": {},
   "source": [
    "### plot without masking the bad channels"
   ]
  },
  {
   "cell_type": "code",
   "execution_count": 5,
   "id": "dd1a4dd4-8f4d-4dfe-9c8b-29abed1d3c13",
   "metadata": {},
   "outputs": [],
   "source": [
    "\n",
    "\n",
    "def show_interactive_plot(filename, make_plot, title='test', ignorechan=False,\n",
    "             t_start=(0, 54, 0.5), n_seconds=(0.5, 10, 1), \n",
    "             quantile1=(0, 1, 0.05), quantile2=(0.92, 1, 0.001),\n",
    "              bandpass_cor=True):\n",
    "    \n",
    "        global fil \n",
    "        f = filename\n",
    "        # Read the .fil file\n",
    "\n",
    "        fil = SigprocFile(datadir + f )\n",
    "    \n",
    "        filterbankfile = f\n",
    "\n",
    "        #print('ignorechan is ', ignorechan)\n",
    "        # Extract frequency and time information\n",
    "        fch1 = fil.fch1  # Frequency of the first channel\n",
    "        foff = fil.foff  # Frequency offset between channels\n",
    "        nchans = fil.nchans  # Number of channels\n",
    "        tsamp = fil.tsamp # Time resolution\n",
    "        tsamp = fil.native_tsamp()\n",
    "    \n",
    "        ignorechan = False\n",
    "        if \"l1\" in f.lower():\n",
    "            ignorechan = read_in_ignore_chan(l1_ignore)\n",
    "        if 'l2' in f.lower():\n",
    "            ignorechan = read_in_ignore_chan(l2_ignore)\n",
    "        if '_p' in f.lower():\n",
    "            ignorechan = read_in_ignore_chan(p_ignore)\n",
    "        if not ignorechan:\n",
    "            ignorechan = False\n",
    "            print(f, \"Could not deduce ignorechan file from filename, don't know zapchans\")\n",
    "\n",
    "\n",
    "        \n",
    "    \n",
    "        \n",
    "        # Generate frequency and time arrays\n",
    "        freqs = fch1 + np.arange(nchans) * foff\n",
    "        print('nchans ', nchans)\n",
    "    \n",
    "        f_lower = fil.fch1 + fil.nchans * fil.foff\n",
    "        f_upper = fil.fch1\n",
    "    \n",
    "        title = f +'\\n Dynamic Spectrum'\n",
    "        interact(make_plot, title=f +'\\n Dynamic Spectrum', ignorechan=ignorechan,\n",
    "                 t_start=t_start, n_seconds=n_seconds, \n",
    "                 quantile1=quantile1, quantile2=quantile2,\n",
    "                  bandpass_cor=bandpass_cor)\n"
   ]
  },
  {
   "cell_type": "code",
   "execution_count": 6,
   "id": "1ce9979a-58fe-493f-ac8d-c7560dabbb04",
   "metadata": {},
   "outputs": [
    {
     "name": "stdout",
     "output_type": "stream",
     "text": [
      "nchans  160\n"
     ]
    },
    {
     "data": {
      "application/vnd.jupyter.widget-view+json": {
       "model_id": "2ca209db729344e9827f195776be33de",
       "version_major": 2,
       "version_minor": 0
      },
      "text/plain": [
       "interactive(children=(FloatSlider(value=115.0, description='t_start', max=119.81088, min=115.0, step=0.5), Tex…"
      ]
     },
     "metadata": {},
     "output_type": "display_data"
    }
   ],
   "source": [
    "title = '\\n Dynamic Spectrum'\n",
    "ignorechan = False\n",
    "show_interactive_plot(pv_file, make_plot, title=title, ignorechan=ignorechan,\n",
    "             t_start=(115, 119.810880 , 0.5), n_seconds=(0.5, 10, 1), \n",
    "             quantile1=(0, 1, 0.05), quantile2=(0.92, 1, 0.001),\n",
    "              bandpass_cor=True)"
   ]
  },
  {
   "cell_type": "code",
   "execution_count": 7,
   "id": "881fa050-fee5-4adc-bd61-1c38bec8fcf8",
   "metadata": {},
   "outputs": [],
   "source": [
    "# lets look at this file\n",
    "# FRB20240209A_PV_Band_2024_06_25_15_27_36.fil we get 20 candiates without the mask"
   ]
  },
  {
   "cell_type": "code",
   "execution_count": 8,
   "id": "5b85ae5e-1286-411f-9593-daa857a55395",
   "metadata": {},
   "outputs": [],
   "source": [
    "# 0:5,142:143,159"
   ]
  },
  {
   "cell_type": "code",
   "execution_count": null,
   "id": "93e06d4e-0f9e-4fb7-b59e-a86dfb4d1255",
   "metadata": {},
   "outputs": [
    {
     "name": "stdout",
     "output_type": "stream",
     "text": [
      "nchans  160\n"
     ]
    }
   ],
   "source": [
    "show_interactive_plot(ph_file, make_plot, title=title, ignorechan=ignorechan,\n",
    "             t_start=(115, 119.810880 , 0.5), n_seconds=(0.5, 10, 1), \n",
    "             quantile1=(0, 1, 0.05), quantile2=(0.92, 1, 0.001),\n",
    "              bandpass_cor=True)"
   ]
  },
  {
   "cell_type": "code",
   "execution_count": null,
   "id": "68fa537a-4be6-4a8b-a578-80e0ea05d20d",
   "metadata": {},
   "outputs": [],
   "source": [
    "show_interactive_plot(l1_file, make_plot, title=title, ignorechan=ignorechan,\n",
    "             t_start=(115, 119.810880 , 0.5), n_seconds=(1, 20, 3), \n",
    "             quantile1=(0, 1, 0.05), quantile2=(0.92, 1, 0.001),\n",
    "              bandpass_cor=True)"
   ]
  },
  {
   "cell_type": "code",
   "execution_count": null,
   "id": "34403547-5832-4727-b6e2-8804081b6233",
   "metadata": {},
   "outputs": [],
   "source": [
    "show_interactive_plot(l2_file, make_plot, title=title, ignorechan=ignorechan,\n",
    "             t_start=(115, 119.810880 , 0.5), n_seconds=(1, 20, 3), \n",
    "             quantile1=(0, 1, 0.05), quantile2=(0.92, 1, 0.001),\n",
    "              bandpass_cor=True)"
   ]
  },
  {
   "cell_type": "code",
   "execution_count": null,
   "id": "0b7e17cd-216c-4110-8572-f4794c5efc70",
   "metadata": {},
   "outputs": [],
   "source": []
  }
 ],
 "metadata": {
  "kernelspec": {
   "display_name": "Python 3 (ipykernel)",
   "language": "python",
   "name": "python3"
  },
  "language_info": {
   "codemirror_mode": {
    "name": "ipython",
    "version": 3
   },
   "file_extension": ".py",
   "mimetype": "text/x-python",
   "name": "python",
   "nbconvert_exporter": "python",
   "pygments_lexer": "ipython3",
   "version": "3.11.2"
  }
 },
 "nbformat": 4,
 "nbformat_minor": 5
}
