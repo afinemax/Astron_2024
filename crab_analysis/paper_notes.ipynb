{
 "cells": [
  {
   "cell_type": "markdown",
   "metadata": {},
   "source": [
    "### 2024-08-08\n",
    "\n",
    "### Maxwell A. Fine "
   ]
  },
  {
   "cell_type": "markdown",
   "metadata": {},
   "source": [
    "#### A link between repeating and non-repeating fast radio bursts through their energy distributions (Nature 2024)\n",
    "#### ( F. Kirsten  Et Al)\n",
    "\n",
    "\n",
    "\n",
    "### Notes:\n",
    "\n",
    "(Abs)\n",
    "* Observed Hyperactive repeater FRB20201124A for ~ 2,000hs w/ 25-32 M radio telescopes\n",
    "* 46 high energy bursts detected, more then expected\n",
    "* **Distrubution** of high-energy bursts looks like distrubution of non-repeating FRBs => **IDEA** non-repeating FRBs may be rarest bursts from repeaters \n",
    "\n",
    "(Main)\n",
    "* Repeaters ~2% of known FRBs\n",
    "* FRBs have wide range of activity levels, avg emission bandwidth, burst duration differ between repeaters and non-repeaters imply different origins engine \n",
    "    - 6 orders of mag in $E_{\\nu}$\n",
    "* FRB isotropic burst energy E $\\sim 10^{36-41}$ erg \n",
    "* Telescope sensitivity and on sky time limits the ability to detect weaker bursts, rare high energy bursts\n",
    "\n",
    "\n",
    "* **Spectral Energy Density**\n",
    "$$ E_{\\nu} = \\frac{E}{\\nu},$$\n",
    "where $\\nu$ is the observing bandwidth. (Use 300 Mhz as standard for converting lit values)\n",
    "* Comulative Burst Spectral Energy Distrubution of repeating FRBS = Power Law $R (> E_{\\nu}  \\propto E_{\\nu}^{\\gamma})$\n",
    "    - depends on the source, and observing epoch. \n",
    "    - Might flatten at highest $E_{\\nu}$ ~ $3\\times 10^{31}$ erg/hz. \n",
    "    - $\\gamma \\sim (-0.61, -1.8)$ could be as extreme as -4.9\n",
    "    - flattening may indicate beaming \n",
    "    - $\\gamma$ avg = 1.09 \n",
    "    - $\\gamma$ = 1 for non-repeaters\n",
    "    - High energy part in aggreement with non-repeatings, low not\n",
    "\n",
    "\n",
    "(obs)\n",
    "* L band - 1,200 - 1,7500 Mhz, No P band detectons. \n",
    "* 18/46 of bursts has more than 2 componets\n",
    "* 13/18 had 'sad trombone' effect\n",
    "\n",
    "\n",
    "\n"
   ]
  },
  {
   "cell_type": "code",
   "execution_count": null,
   "metadata": {},
   "outputs": [],
   "source": []
  }
 ],
 "metadata": {
  "kernelspec": {
   "display_name": "astron_research_2024",
   "language": "python",
   "name": "python3"
  },
  "language_info": {
   "codemirror_mode": {
    "name": "ipython",
    "version": 3
   },
   "file_extension": ".py",
   "mimetype": "text/x-python",
   "name": "python",
   "nbconvert_exporter": "python",
   "pygments_lexer": "ipython3",
   "version": "3.9.19"
  }
 },
 "nbformat": 4,
 "nbformat_minor": 2
}
