{
 "cells": [
  {
   "cell_type": "markdown",
   "metadata": {},
   "source": [
    "### Maxwell A. Fine 2024-07-15\n",
    "\n",
    "This notebook is for calling `presto` commands via docker from a jupyter notebook"
   ]
  },
  {
   "cell_type": "code",
   "execution_count": 3,
   "metadata": {},
   "outputs": [],
   "source": [
    "# imports\n",
    "import numpy as np\n",
    "import matplotlib.pyplot as plt\n",
    "import pandas as pd\n",
    "from os.path import basename, dirname\n",
    "import glob\n",
    "# we will be running presto in a docker image, so we will execute presto commands using subprocess\n",
    "import subprocess \n",
    "import os\n",
    "\n",
    "# Define the container name and docker image\n",
    "container_name = \"noise_new_channels_v3\"\n",
    "docker_image = \"c7897abba927\"\n",
    "\n",
    "local_path = \"/home/afinemax/afinemax/khazad-dum/research/astron_2024/noise_channels/data2/\"\n",
    "container_path = \"/data\"\n"
   ]
  },
  {
   "cell_type": "code",
   "execution_count": 5,
   "metadata": {},
   "outputs": [
    {
     "name": "stdout",
     "output_type": "stream",
     "text": [
      "noise_new_channels_v3\n",
      "Hello from inside the container!\n",
      "\n"
     ]
    }
   ],
   "source": [
    "# Check if the container already exists\n",
    "def container_exists(name):\n",
    "    result = subprocess.run([\"docker\", \"ps\", \"-a\", \"--filter\", f\"name={name}\", \"--format\", \"{{.Names}}\"], capture_output=True, text=True)\n",
    "    return name in result.stdout\n",
    "\n",
    "# Start the container if it exists, otherwise run a new one\n",
    "if container_exists(container_name):\n",
    "    subprocess.run([\"docker\", \"start\", container_name])\n",
    "else:\n",
    "    subprocess.run([\n",
    "        \"docker\", \"run\", \"-d\", \"--name\", container_name,\n",
    "        \"-v\", f\"{local_path}:{container_path}\",\n",
    "        \"-e\", f\"DISPLAY={os.environ['DISPLAY']}\",\n",
    "        \"-v\", \"/tmp/.X11-unix:/tmp/.X11-unix\",\n",
    "        docker_image, \"sleep\", \"infinity\"\n",
    "    ])\n",
    "\n",
    "# Function to run a command inside the Docker container\n",
    "def run_command_in_container(command):\n",
    "    '''Runs command in the docker image cmd line, cmd is a single str'''\n",
    "    result = subprocess.run([\"docker\", \"exec\", container_name, \"bash\", \"-c\", command], capture_output=True, text=True)\n",
    "    return result.stdout, result.stderr\n",
    "\n",
    "# Example commands to run inside the container\n",
    "\n",
    "stdout, stderr = run_command_in_container('echo Hello from inside the container!')\n",
    "\n",
    "print(stdout)\n",
    "\n",
    "\n",
    "\n",
    "\n"
   ]
  },
  {
   "cell_type": "code",
   "execution_count": null,
   "metadata": {},
   "outputs": [],
   "source": []
  }
 ],
 "metadata": {
  "kernelspec": {
   "display_name": "astron_research_2024",
   "language": "python",
   "name": "python3"
  },
  "language_info": {
   "codemirror_mode": {
    "name": "ipython",
    "version": 3
   },
   "file_extension": ".py",
   "mimetype": "text/x-python",
   "name": "python",
   "nbconvert_exporter": "python",
   "pygments_lexer": "ipython3",
   "version": "3.9.19"
  }
 },
 "nbformat": 4,
 "nbformat_minor": 2
}
